{
  "nbformat": 4,
  "nbformat_minor": 0,
  "metadata": {
    "colab": {
      "name": "Data Preprocessing.ipynb",
      "provenance": []
    },
    "kernelspec": {
      "name": "python3",
      "display_name": "Python 3"
    }
  },
  "cells": [
    {
      "cell_type": "code",
      "metadata": {
        "id": "VKrp_nCMv4kB",
        "colab_type": "code",
        "colab": {}
      },
      "source": [
        "import numpy as np\n",
        "import pandas as pd\n",
        "import matplotlib.pyplot as plt\n"
      ],
      "execution_count": 1,
      "outputs": []
    },
    {
      "cell_type": "code",
      "metadata": {
        "id": "mBZUCPXGwept",
        "colab_type": "code",
        "colab": {}
      },
      "source": [
        "dataset = pd.read_csv('Data.csv')"
      ],
      "execution_count": 2,
      "outputs": []
    },
    {
      "cell_type": "code",
      "metadata": {
        "id": "qCIWcN00wjMB",
        "colab_type": "code",
        "colab": {
          "base_uri": "https://localhost:8080/",
          "height": 204
        },
        "outputId": "d8d21495-b4be-4445-ba2a-88c3b979ca59"
      },
      "source": [
        "dataset.head()"
      ],
      "execution_count": 3,
      "outputs": [
        {
          "output_type": "execute_result",
          "data": {
            "text/html": [
              "<div>\n",
              "<style scoped>\n",
              "    .dataframe tbody tr th:only-of-type {\n",
              "        vertical-align: middle;\n",
              "    }\n",
              "\n",
              "    .dataframe tbody tr th {\n",
              "        vertical-align: top;\n",
              "    }\n",
              "\n",
              "    .dataframe thead th {\n",
              "        text-align: right;\n",
              "    }\n",
              "</style>\n",
              "<table border=\"1\" class=\"dataframe\">\n",
              "  <thead>\n",
              "    <tr style=\"text-align: right;\">\n",
              "      <th></th>\n",
              "      <th>States</th>\n",
              "      <th>Age</th>\n",
              "      <th>Salary</th>\n",
              "      <th>Purchased</th>\n",
              "    </tr>\n",
              "  </thead>\n",
              "  <tbody>\n",
              "    <tr>\n",
              "      <th>0</th>\n",
              "      <td>Texas</td>\n",
              "      <td>44.0</td>\n",
              "      <td>72000.0</td>\n",
              "      <td>No</td>\n",
              "    </tr>\n",
              "    <tr>\n",
              "      <th>1</th>\n",
              "      <td>Florida</td>\n",
              "      <td>27.0</td>\n",
              "      <td>48000.0</td>\n",
              "      <td>Yes</td>\n",
              "    </tr>\n",
              "    <tr>\n",
              "      <th>2</th>\n",
              "      <td>California</td>\n",
              "      <td>30.0</td>\n",
              "      <td>54000.0</td>\n",
              "      <td>No</td>\n",
              "    </tr>\n",
              "    <tr>\n",
              "      <th>3</th>\n",
              "      <td>Texas</td>\n",
              "      <td>38.0</td>\n",
              "      <td>61000.0</td>\n",
              "      <td>No</td>\n",
              "    </tr>\n",
              "    <tr>\n",
              "      <th>4</th>\n",
              "      <td>California</td>\n",
              "      <td>NaN</td>\n",
              "      <td>65000.0</td>\n",
              "      <td>Yes</td>\n",
              "    </tr>\n",
              "  </tbody>\n",
              "</table>\n",
              "</div>"
            ],
            "text/plain": [
              "       States   Age   Salary Purchased\n",
              "0       Texas  44.0  72000.0        No\n",
              "1     Florida  27.0  48000.0       Yes\n",
              "2  California  30.0  54000.0        No\n",
              "3       Texas  38.0  61000.0        No\n",
              "4  California   NaN  65000.0       Yes"
            ]
          },
          "metadata": {
            "tags": []
          },
          "execution_count": 3
        }
      ]
    },
    {
      "cell_type": "code",
      "metadata": {
        "id": "ZWeWEs1ywl5I",
        "colab_type": "code",
        "colab": {
          "base_uri": "https://localhost:8080/",
          "height": 204
        },
        "outputId": "d63be6d3-d9b8-480f-aee3-c3be7188ab52"
      },
      "source": [
        "dataset.tail()"
      ],
      "execution_count": 4,
      "outputs": [
        {
          "output_type": "execute_result",
          "data": {
            "text/html": [
              "<div>\n",
              "<style scoped>\n",
              "    .dataframe tbody tr th:only-of-type {\n",
              "        vertical-align: middle;\n",
              "    }\n",
              "\n",
              "    .dataframe tbody tr th {\n",
              "        vertical-align: top;\n",
              "    }\n",
              "\n",
              "    .dataframe thead th {\n",
              "        text-align: right;\n",
              "    }\n",
              "</style>\n",
              "<table border=\"1\" class=\"dataframe\">\n",
              "  <thead>\n",
              "    <tr style=\"text-align: right;\">\n",
              "      <th></th>\n",
              "      <th>States</th>\n",
              "      <th>Age</th>\n",
              "      <th>Salary</th>\n",
              "      <th>Purchased</th>\n",
              "    </tr>\n",
              "  </thead>\n",
              "  <tbody>\n",
              "    <tr>\n",
              "      <th>5</th>\n",
              "      <td>Texas</td>\n",
              "      <td>35.0</td>\n",
              "      <td>58000.0</td>\n",
              "      <td>Yes</td>\n",
              "    </tr>\n",
              "    <tr>\n",
              "      <th>6</th>\n",
              "      <td>California</td>\n",
              "      <td>40.0</td>\n",
              "      <td>NaN</td>\n",
              "      <td>No</td>\n",
              "    </tr>\n",
              "    <tr>\n",
              "      <th>7</th>\n",
              "      <td>Texas</td>\n",
              "      <td>48.0</td>\n",
              "      <td>79000.0</td>\n",
              "      <td>Yes</td>\n",
              "    </tr>\n",
              "    <tr>\n",
              "      <th>8</th>\n",
              "      <td>Florida</td>\n",
              "      <td>50.0</td>\n",
              "      <td>83000.0</td>\n",
              "      <td>No</td>\n",
              "    </tr>\n",
              "    <tr>\n",
              "      <th>9</th>\n",
              "      <td>Texas</td>\n",
              "      <td>37.0</td>\n",
              "      <td>67000.0</td>\n",
              "      <td>Yes</td>\n",
              "    </tr>\n",
              "  </tbody>\n",
              "</table>\n",
              "</div>"
            ],
            "text/plain": [
              "       States   Age   Salary Purchased\n",
              "5       Texas  35.0  58000.0       Yes\n",
              "6  California  40.0      NaN        No\n",
              "7       Texas  48.0  79000.0       Yes\n",
              "8     Florida  50.0  83000.0        No\n",
              "9       Texas  37.0  67000.0       Yes"
            ]
          },
          "metadata": {
            "tags": []
          },
          "execution_count": 4
        }
      ]
    },
    {
      "cell_type": "code",
      "metadata": {
        "id": "7a32Jrxdwqt-",
        "colab_type": "code",
        "colab": {}
      },
      "source": [
        "X = dataset.iloc[: , :-1].values"
      ],
      "execution_count": 5,
      "outputs": []
    },
    {
      "cell_type": "code",
      "metadata": {
        "id": "GstGw6AbwxoW",
        "colab_type": "code",
        "colab": {}
      },
      "source": [
        "y = dataset.iloc[: , -1].values"
      ],
      "execution_count": 6,
      "outputs": []
    },
    {
      "cell_type": "code",
      "metadata": {
        "id": "_Gly_ttzw2A7",
        "colab_type": "code",
        "colab": {
          "base_uri": "https://localhost:8080/",
          "height": 187
        },
        "outputId": "fde1cc18-7617-4538-9607-cdbbf147e43a"
      },
      "source": [
        "X"
      ],
      "execution_count": 7,
      "outputs": [
        {
          "output_type": "execute_result",
          "data": {
            "text/plain": [
              "array([['Texas', 44.0, 72000.0],\n",
              "       ['Florida', 27.0, 48000.0],\n",
              "       ['California', 30.0, 54000.0],\n",
              "       ['Texas', 38.0, 61000.0],\n",
              "       ['California', nan, 65000.0],\n",
              "       ['Texas', 35.0, 58000.0],\n",
              "       ['California', 40.0, nan],\n",
              "       ['Texas', 48.0, 79000.0],\n",
              "       ['Florida', 50.0, 83000.0],\n",
              "       ['Texas', 37.0, 67000.0]], dtype=object)"
            ]
          },
          "metadata": {
            "tags": []
          },
          "execution_count": 7
        }
      ]
    },
    {
      "cell_type": "code",
      "metadata": {
        "id": "3f6MM3Y5w4R4",
        "colab_type": "code",
        "colab": {}
      },
      "source": [
        "#handling the missimg values\n",
        "from sklearn.impute import SimpleImputer\n",
        "imputer = SimpleImputer(missing_values = np.nan , strategy = 'mean')\n",
        "X[: , 1:3] = imputer.fit_transform(X[: , 1:3])"
      ],
      "execution_count": 8,
      "outputs": []
    },
    {
      "cell_type": "code",
      "metadata": {
        "id": "-IUkeb5cxP8A",
        "colab_type": "code",
        "colab": {
          "base_uri": "https://localhost:8080/",
          "height": 187
        },
        "outputId": "f297c314-78e0-49a8-c9d2-c0fc63a555c6"
      },
      "source": [
        "X"
      ],
      "execution_count": 10,
      "outputs": [
        {
          "output_type": "execute_result",
          "data": {
            "text/plain": [
              "array([['Texas', 44.0, 72000.0],\n",
              "       ['Florida', 27.0, 48000.0],\n",
              "       ['California', 30.0, 54000.0],\n",
              "       ['Texas', 38.0, 61000.0],\n",
              "       ['California', 38.77777777777778, 65000.0],\n",
              "       ['Texas', 35.0, 58000.0],\n",
              "       ['California', 40.0, 65222.22222222222],\n",
              "       ['Texas', 48.0, 79000.0],\n",
              "       ['Florida', 50.0, 83000.0],\n",
              "       ['Texas', 37.0, 67000.0]], dtype=object)"
            ]
          },
          "metadata": {
            "tags": []
          },
          "execution_count": 10
        }
      ]
    },
    {
      "cell_type": "code",
      "metadata": {
        "id": "CGLdI268xUJb",
        "colab_type": "code",
        "colab": {}
      },
      "source": [
        "from sklearn.preprocessing import OneHotEncoder\n",
        "from sklearn.compose import ColumnTransformer\n",
        "ct = ColumnTransformer(transformers = [('encode' , OneHotEncoder() , [0])] , remainder = 'passthrough')\n",
        "X = ct.fit_transform(X)"
      ],
      "execution_count": 11,
      "outputs": []
    },
    {
      "cell_type": "code",
      "metadata": {
        "id": "NjVhmT00xq2U",
        "colab_type": "code",
        "colab": {
          "base_uri": "https://localhost:8080/",
          "height": 187
        },
        "outputId": "04efdf8c-24af-4a30-ef73-6abeacc7655c"
      },
      "source": [
        "X"
      ],
      "execution_count": 12,
      "outputs": [
        {
          "output_type": "execute_result",
          "data": {
            "text/plain": [
              "array([[0.0, 0.0, 1.0, 44.0, 72000.0],\n",
              "       [0.0, 1.0, 0.0, 27.0, 48000.0],\n",
              "       [1.0, 0.0, 0.0, 30.0, 54000.0],\n",
              "       [0.0, 0.0, 1.0, 38.0, 61000.0],\n",
              "       [1.0, 0.0, 0.0, 38.77777777777778, 65000.0],\n",
              "       [0.0, 0.0, 1.0, 35.0, 58000.0],\n",
              "       [1.0, 0.0, 0.0, 40.0, 65222.22222222222],\n",
              "       [0.0, 0.0, 1.0, 48.0, 79000.0],\n",
              "       [0.0, 1.0, 0.0, 50.0, 83000.0],\n",
              "       [0.0, 0.0, 1.0, 37.0, 67000.0]], dtype=object)"
            ]
          },
          "metadata": {
            "tags": []
          },
          "execution_count": 12
        }
      ]
    },
    {
      "cell_type": "code",
      "metadata": {
        "id": "VT0-lAQ0xvjO",
        "colab_type": "code",
        "colab": {}
      },
      "source": [
        "X = X[: , 1:]#avoiding the dummy variable trap"
      ],
      "execution_count": 13,
      "outputs": []
    },
    {
      "cell_type": "code",
      "metadata": {
        "id": "nH_TZVUVxx9p",
        "colab_type": "code",
        "colab": {
          "base_uri": "https://localhost:8080/",
          "height": 187
        },
        "outputId": "e847f20c-99dc-4dd4-cf43-7403c523c3cd"
      },
      "source": [
        "X"
      ],
      "execution_count": 14,
      "outputs": [
        {
          "output_type": "execute_result",
          "data": {
            "text/plain": [
              "array([[0.0, 1.0, 44.0, 72000.0],\n",
              "       [1.0, 0.0, 27.0, 48000.0],\n",
              "       [0.0, 0.0, 30.0, 54000.0],\n",
              "       [0.0, 1.0, 38.0, 61000.0],\n",
              "       [0.0, 0.0, 38.77777777777778, 65000.0],\n",
              "       [0.0, 1.0, 35.0, 58000.0],\n",
              "       [0.0, 0.0, 40.0, 65222.22222222222],\n",
              "       [0.0, 1.0, 48.0, 79000.0],\n",
              "       [1.0, 0.0, 50.0, 83000.0],\n",
              "       [0.0, 1.0, 37.0, 67000.0]], dtype=object)"
            ]
          },
          "metadata": {
            "tags": []
          },
          "execution_count": 14
        }
      ]
    },
    {
      "cell_type": "code",
      "metadata": {
        "id": "OATxhFiOx3K5",
        "colab_type": "code",
        "colab": {}
      },
      "source": [
        "from sklearn.model_selection import train_test_split\n",
        "x_train , x_test , y_train , y_test = train_test_split(X , y , test_size=0.2, random_state = 0)"
      ],
      "execution_count": 15,
      "outputs": []
    },
    {
      "cell_type": "code",
      "metadata": {
        "id": "GkNlNbw5yEjE",
        "colab_type": "code",
        "colab": {
          "base_uri": "https://localhost:8080/",
          "height": 153
        },
        "outputId": "fc04a417-f102-43d5-8115-e0c6e4464590"
      },
      "source": [
        "x_train"
      ],
      "execution_count": 16,
      "outputs": [
        {
          "output_type": "execute_result",
          "data": {
            "text/plain": [
              "array([[0.0, 0.0, 38.77777777777778, 65000.0],\n",
              "       [0.0, 1.0, 37.0, 67000.0],\n",
              "       [1.0, 0.0, 27.0, 48000.0],\n",
              "       [0.0, 0.0, 40.0, 65222.22222222222],\n",
              "       [0.0, 1.0, 48.0, 79000.0],\n",
              "       [0.0, 1.0, 38.0, 61000.0],\n",
              "       [0.0, 1.0, 44.0, 72000.0],\n",
              "       [0.0, 1.0, 35.0, 58000.0]], dtype=object)"
            ]
          },
          "metadata": {
            "tags": []
          },
          "execution_count": 16
        }
      ]
    },
    {
      "cell_type": "code",
      "metadata": {
        "id": "8Ty3CQTSyIg8",
        "colab_type": "code",
        "colab": {}
      },
      "source": [
        "from sklearn.preprocessing import StandardScaler\n",
        "sc = StandardScaler()\n",
        "x_train = sc.fit_transform(x_train)\n",
        "x_test = sc.transform(x_test)"
      ],
      "execution_count": 17,
      "outputs": []
    },
    {
      "cell_type": "code",
      "metadata": {
        "id": "4iLak4p6yUhT",
        "colab_type": "code",
        "colab": {
          "base_uri": "https://localhost:8080/",
          "height": 153
        },
        "outputId": "7f3c6fec-a404-45fe-831c-01fa6e8e5225"
      },
      "source": [
        "x_train"
      ],
      "execution_count": 18,
      "outputs": [
        {
          "output_type": "execute_result",
          "data": {
            "text/plain": [
              "array([[-0.37796447, -1.29099445,  0.05261351,  0.06895002],\n",
              "       [-0.37796447,  0.77459667, -0.25350148,  0.29985242],\n",
              "       [ 2.64575131, -1.29099445, -1.97539832, -1.89372037],\n",
              "       [-0.37796447, -1.29099445,  0.26306757,  0.09460584],\n",
              "       [-0.37796447,  0.77459667,  1.64058505,  1.68526682],\n",
              "       [-0.37796447,  0.77459667, -0.0813118 , -0.39285478],\n",
              "       [-0.37796447,  0.77459667,  0.95182631,  0.87710842],\n",
              "       [-0.37796447,  0.77459667, -0.59788085, -0.73920837]])"
            ]
          },
          "metadata": {
            "tags": []
          },
          "execution_count": 18
        }
      ]
    },
    {
      "cell_type": "code",
      "metadata": {
        "id": "NDm1qJjtyYY3",
        "colab_type": "code",
        "colab": {}
      },
      "source": [
        "#Thank you"
      ],
      "execution_count": null,
      "outputs": []
    }
  ]
}